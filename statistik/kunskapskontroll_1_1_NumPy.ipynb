{
 "cells": [
  {
   "cell_type": "markdown",
   "id": "dacf74e6",
   "metadata": {},
   "source": [
    "# NumPy"
   ]
  },
  {
   "cell_type": "markdown",
   "id": "01b2bf34",
   "metadata": {},
   "source": [
    "Read the links: https://numpy.org/doc/stable/user/quickstart.html  and https://numpy.org/doc/stable/user/basics.broadcasting.html  before solving the exercises. "
   ]
  },
  {
   "cell_type": "code",
   "execution_count": 1,
   "id": "1f79e4a6",
   "metadata": {},
   "outputs": [],
   "source": [
    "import numpy as np"
   ]
  },
  {
   "cell_type": "markdown",
   "id": "7dae6889",
   "metadata": {},
   "source": [
    "### Print out the dimension (number of axes), shape, size and the datatype of the matrix A."
   ]
  },
  {
   "cell_type": "code",
   "execution_count": 120,
   "id": "7b3678cd",
   "metadata": {},
   "outputs": [],
   "source": [
    "A = np.arange(1, 16).reshape(3,5)"
   ]
  },
  {
   "cell_type": "code",
   "execution_count": 122,
   "id": "31d39235",
   "metadata": {},
   "outputs": [
    {
     "name": "stdout",
     "output_type": "stream",
     "text": [
      "[[ 1  2  3  4  5]\n",
      " [ 6  7  8  9 10]\n",
      " [11 12 13 14 15]]\n",
      "=============================\n",
      "2\n",
      "(3, 5)\n",
      "15\n",
      "int32\n"
     ]
    }
   ],
   "source": [
    "print(A)\n",
    "print('=============================')\n",
    "\n",
    "print(A.ndim)\n",
    "print(A.shape)\n",
    "print(A.size)\n",
    "print(A.dtype)\n"
   ]
  },
  {
   "cell_type": "markdown",
   "id": "e56d2a96",
   "metadata": {},
   "source": [
    "### Do the following computations on the matrices B and C: \n",
    "* Elementwise subtraction. \n",
    "* Elementwise multiplication. \n",
    "* Matrix multiplication (by default you should use the @ operator)."
   ]
  },
  {
   "cell_type": "code",
   "execution_count": 38,
   "id": "a7053fbb",
   "metadata": {},
   "outputs": [
    {
     "name": "stdout",
     "output_type": "stream",
     "text": [
      "B = \n",
      " [[1 2 3]\n",
      " [4 5 6]\n",
      " [7 8 9]]\n",
      "\n",
      "======================================\n",
      "\n",
      "C = \n",
      " [[2. 2. 2.]\n",
      " [2. 2. 2.]\n",
      " [2. 2. 2.]]\n",
      "\n",
      "======================================\n",
      "\n",
      "Elementwise subtraction of B and C (B - C):\n",
      " [[-1.  0.  1.]\n",
      " [ 2.  3.  4.]\n",
      " [ 5.  6.  7.]]\n",
      "\n",
      "======================================\n",
      "\n",
      "Elementwise multiplication of B and C (B * C):\n",
      " [[ 2.  4.  6.]\n",
      " [ 8. 10. 12.]\n",
      " [14. 16. 18.]]\n",
      "\n",
      "======================================\n",
      "\n",
      "Matrix multiplication:\n",
      " [[12. 12. 12.]\n",
      " [30. 30. 30.]\n",
      " [48. 48. 48.]]\n"
     ]
    }
   ],
   "source": [
    "B = np.arange(1, 10).reshape(3, 3)\n",
    "C = np.ones((3, 3))*2\n",
    "\n",
    "\n",
    "print(f'B = \\n {B}')\n",
    "print()\n",
    "print('======================================')\n",
    "print()\n",
    "\n",
    "print(f'C = \\n {C}')\n",
    "\n",
    "print()\n",
    "print('======================================')\n",
    "print()\n",
    "\n",
    "#Calculating the subtraction of B and C\n",
    "subtraction = B - C\n",
    "print(f'Elementwise subtraction of B and C (B - C):\\n {subtraction}') \n",
    "\n",
    "print()\n",
    "print('======================================')\n",
    "print()\n",
    "\n",
    "#Calculating elementwise multiplication of B and C\n",
    "multiplication = B * C \n",
    "print(f'Elementwise multiplication of B and C (B * C):\\n {multiplication}')\n",
    "\n",
    "print()\n",
    "print('======================================')\n",
    "print()\n",
    "\n",
    "\n",
    "\n",
    "print(f'Matrix multiplication:\\n {B @ C}')\n",
    "\n"
   ]
  },
  {
   "cell_type": "code",
   "execution_count": null,
   "id": "3cd794ae",
   "metadata": {},
   "outputs": [],
   "source": []
  },
  {
   "cell_type": "markdown",
   "id": "96030d53",
   "metadata": {},
   "source": [
    "### Do the following calculations on the matrix:\n",
    "* Exponentiate each number elementwise (use the np.exp function).\n",
    "\n",
    "* Calculate the minimum value in the whole matrix. \n",
    "* Calculcate the minimum value in each row. \n",
    "* Calculcate the minimum value in each column. \n",
    "\n",
    "\n",
    "* Find the index value for the minimum value in the whole matrix (hint: use np.argmin).\n",
    "* Find the index value for the minimum value in each row (hint: use np.argmin).\n",
    "\n",
    "\n",
    "* Calculate the sum for all elements.\n",
    "* Calculate the mean for each column. \n",
    "* Calculate the median for each column. "
   ]
  },
  {
   "cell_type": "code",
   "execution_count": 127,
   "id": "f8a9166b",
   "metadata": {},
   "outputs": [
    {
     "name": "stdout",
     "output_type": "stream",
     "text": [
      "[[1 2 3]\n",
      " [4 5 6]\n",
      " [7 8 9]]\n",
      "\n",
      "Exponentiating each number in the matrix:\n",
      " [[2.71828183e+00 7.38905610e+00 2.00855369e+01]\n",
      " [5.45981500e+01 1.48413159e+02 4.03428793e+02]\n",
      " [1.09663316e+03 2.98095799e+03 8.10308393e+03]]\n",
      "\n",
      "======================================\n",
      "\n",
      "Minimum value of the whole matrix: \n",
      "1\n",
      "\n",
      "======================================\n",
      "\n",
      "Minimum value of each row: \n",
      "[1 4 7]\n",
      "\n",
      "======================================\n",
      "\n",
      "Minimum value of each column: \n",
      "[1 2 3]\n",
      "\n",
      "======================================\n",
      "\n",
      "Index of the minimum value in whole matrix: \n",
      "0\n",
      "\n",
      "======================================\n",
      "\n",
      "Index of the minimum value in each row: \n",
      " [0 0 0]\n",
      "\n",
      "======================================\n",
      "\n",
      "Sum of all elements: \n",
      " 45\n",
      "\n",
      "======================================\n",
      "\n",
      "Mean of each column: \n",
      " [4. 5. 6.]\n",
      "\n",
      "======================================\n",
      "\n",
      "Median for each column: \n",
      " [4. 5. 6.]\n"
     ]
    }
   ],
   "source": [
    "B = np.arange(1, 10).reshape(3, 3)\n",
    "print(B)\n",
    "print()\n",
    "\n",
    "exponentiated_number = np.exp(B)\n",
    "print(f'Exponentiating each number in the matrix:\\n {exponentiated_number}')\n",
    "\n",
    "\n",
    "print()\n",
    "print('======================================')\n",
    "print()\n",
    "\n",
    "minimum_value_whole = np.min(B)\n",
    "print(f'Minimum value of the whole matrix: \\n{minimum_value_whole}')\n",
    "\n",
    "print()\n",
    "print('======================================')\n",
    "print()\n",
    "\n",
    "\n",
    "min_each_row = np.min(B, axis=1)\n",
    "print(f'Minimum value of each row: \\n{min_each_row}')\n",
    "\n",
    "print()\n",
    "print('======================================')\n",
    "print()\n",
    "\n",
    "min_each_col = np.min(B, axis=0)\n",
    "print(f'Minimum value of each column: \\n{min_each_col}')\n",
    "\n",
    "\n",
    "print()\n",
    "print('======================================')\n",
    "print()\n",
    "\n",
    "min_val_index = np.argmin(B)\n",
    "print(f'Index of the minimum value in whole matrix: \\n{min_val_index}')\n",
    "\n",
    "print()\n",
    "print('======================================')\n",
    "print()\n",
    "\n",
    "min_val_index_2 = np.argmin(B, axis=1)\n",
    "print(f'Index of the minimum value in each row: \\n {min_val_index_2}')\n",
    "\n",
    "print()\n",
    "print('======================================')\n",
    "print()\n",
    "\n",
    "\n",
    "sum = np.sum(B)\n",
    "print(f'Sum of all elements: \\n {sum}')\n",
    "\n",
    "print()\n",
    "print('======================================')\n",
    "print()\n",
    "\n",
    "\n",
    "# Mean of each column(Medelvärde)\n",
    "mean_each_column = np.mean(B, axis=0)\n",
    "print(f'Mean of each column: \\n {mean_each_column}')\n",
    "\n",
    "print()\n",
    "print('======================================')\n",
    "print()\n",
    "\n",
    "\n",
    "# Median of each column\n",
    "median_each_column = np.median(B, axis=0)\n",
    "\n",
    "print(f'Median for each column: \\n {median_each_column}')\n"
   ]
  },
  {
   "cell_type": "markdown",
   "id": "541eb7ba",
   "metadata": {},
   "source": [
    "### What does it mean when you provide fewer indices than axes when slicing? See example below."
   ]
  },
  {
   "cell_type": "code",
   "execution_count": 98,
   "id": "9c8abf56",
   "metadata": {},
   "outputs": [
    {
     "name": "stdout",
     "output_type": "stream",
     "text": [
      "[[ 1  2  3  4  5]\n",
      " [ 6  7  8  9 10]\n",
      " [11 12 13 14 15]]\n"
     ]
    }
   ],
   "source": [
    "print(A)"
   ]
  },
  {
   "cell_type": "code",
   "execution_count": 104,
   "id": "69415f7b",
   "metadata": {},
   "outputs": [
    {
     "data": {
      "text/plain": [
       "array([ 6,  7,  8,  9, 10])"
      ]
     },
     "execution_count": 104,
     "metadata": {},
     "output_type": "execute_result"
    }
   ],
   "source": [
    "A[1]"
   ]
  },
  {
   "cell_type": "markdown",
   "id": "6c53541b",
   "metadata": {},
   "source": [
    "**Answer:**"
   ]
  },
  {
   "cell_type": "markdown",
   "id": "de01e120",
   "metadata": {},
   "source": [
    "When we provide fewer indices than axes while slicing, it means that we're implicitly selecting all elements along the missing axes.\n",
    "[[ 1  2  3  4  5]\n",
    " [ 6  7  8  9 10]\n",
    " [11 12 13 14 15]]\n",
    "\n",
    " This is a 3x5 matrix, meaning it has 2 dimensions: rows (axis 0) and columns (axis 1).\n",
    "\n",
    " This means we're only providing an index for the first axis (the rows), which in this case is 1. The matrix has two axes (rows and columns), but we only specified the row. So, NumPy implicitly assumes we want all elements along the second axis."
   ]
  },
  {
   "cell_type": "markdown",
   "id": "6652d0c9",
   "metadata": {},
   "source": [
    "### Iterating over multidimensional arrays is done with respect to the first axis, so in the example below we iterate trough the rows. If you would like to iterate through the array *elementwise*, how would you do that?"
   ]
  },
  {
   "cell_type": "code",
   "execution_count": 105,
   "id": "9459864f",
   "metadata": {},
   "outputs": [
    {
     "data": {
      "text/plain": [
       "array([[ 1,  2,  3,  4,  5],\n",
       "       [ 6,  7,  8,  9, 10],\n",
       "       [11, 12, 13, 14, 15]])"
      ]
     },
     "execution_count": 105,
     "metadata": {},
     "output_type": "execute_result"
    }
   ],
   "source": [
    "A"
   ]
  },
  {
   "cell_type": "code",
   "execution_count": 106,
   "id": "a671bb5a",
   "metadata": {},
   "outputs": [
    {
     "name": "stdout",
     "output_type": "stream",
     "text": [
      "[1 2 3 4 5]\n",
      "[ 6  7  8  9 10]\n",
      "[11 12 13 14 15]\n"
     ]
    }
   ],
   "source": [
    "for i in A:\n",
    "    print(i)"
   ]
  },
  {
   "cell_type": "markdown",
   "id": "f4e443a0",
   "metadata": {},
   "source": [
    "To iterate element-wise over a multidimensional NumPy array, we can use the nditer function. "
   ]
  },
  {
   "cell_type": "code",
   "execution_count": 132,
   "id": "1831a018",
   "metadata": {},
   "outputs": [
    {
     "name": "stdout",
     "output_type": "stream",
     "text": [
      "1\n",
      "2\n",
      "3\n",
      "4\n",
      "5\n",
      "6\n",
      "7\n",
      "8\n",
      "9\n",
      "10\n",
      "11\n",
      "12\n",
      "13\n",
      "14\n",
      "15\n",
      "\n",
      "==================================================\n",
      "1\n",
      "2\n",
      "3\n",
      "4\n",
      "5\n",
      "6\n",
      "7\n",
      "8\n",
      "9\n",
      "10\n",
      "11\n",
      "12\n",
      "13\n",
      "14\n",
      "15\n"
     ]
    }
   ],
   "source": [
    "# We can use nested loops to iterate through each element:\n",
    "for i in range(A.shape[0]):  # Iterate over rows\n",
    "    for j in range(A.shape[1]):  # Iterate over columns\n",
    "        print(A[i, j])  # Access each element\n",
    "print()\n",
    "print('==================================================')\n",
    "# =========================================================================\n",
    "\n",
    "# or use the nditer method\n",
    "for j in np.nditer(A):\n",
    "    print(j)\n"
   ]
  },
  {
   "cell_type": "markdown",
   "id": "608a2583",
   "metadata": {},
   "source": [
    "### Explain what the code below does. More specifically, b has three axes - what does this mean? "
   ]
  },
  {
   "cell_type": "code",
   "execution_count": 113,
   "id": "f8f9b26f",
   "metadata": {},
   "outputs": [
    {
     "name": "stdout",
     "output_type": "stream",
     "text": [
      "[ 0  1  2  3  4  5  6  7  8  9 10 11 12 13 14 15 16 17 18 19 20 21 22 23\n",
      " 24 25 26 27 28 29]\n",
      "\n",
      "[[[ 0  1  2  3  4]\n",
      "  [ 5  6  7  8  9]\n",
      "  [10 11 12 13 14]]\n",
      "\n",
      " [[15 16 17 18 19]\n",
      "  [20 21 22 23 24]\n",
      "  [25 26 27 28 29]]]\n"
     ]
    }
   ],
   "source": [
    "a = np.arange(30)\n",
    "b = a.reshape((2, 3, -1))\n",
    "print(a)\n",
    "print()\n",
    "\n",
    "print(b)"
   ]
  },
  {
   "cell_type": "markdown",
   "id": "863a45df",
   "metadata": {},
   "source": [
    "1. a = np.arange(30)\n",
    "np.arange(30) creates a 1D array with values ranging from 0 to 29 (inclusive). \n",
    "\n",
    "2. b = a.reshape((2, 3, -1))\n",
    "The reshape function is used to reshape the 1D array a into a multidimensional array.\n",
    "\n",
    "(2, 3, -1) specifies that the reshaped array should have 3 axes (or dimensions).\n",
    "2: The first axis (or dimension) will have size 2.\n",
    "3: The second axis will have size 3.\n",
    "-1: The -1 tells NumPy to automatically determine the size of the third axis based on the total number of elements (30) and the sizes of the other axes.\n",
    "\n",
    "NumPy needs to figure out the size of the third axis (-1) to ensure the reshaped array still has 30 elements.\n",
    "\n",
    "Thus, b will be a 3D array with the shape (2, 3, 5).\n",
    "\n",
    "Interpretation of the 3 axes:\n",
    "First axis (2): This axis has 2 elements, meaning there are 2 \"blocks\" or \"slices\".\n",
    "Second axis (3): Each block has 3 rows.\n",
    "Third axis (5): Each row has 5 elements (columns)."
   ]
  },
  {
   "cell_type": "code",
   "execution_count": null,
   "id": "a726bede",
   "metadata": {},
   "outputs": [],
   "source": []
  },
  {
   "cell_type": "markdown",
   "id": "ab5933d5",
   "metadata": {},
   "source": [
    "### Broadcasting\n",
    "**Read the following link about broadcasting: https://numpy.org/doc/stable/user/basics.broadcasting.html#basics-broadcasting**"
   ]
  },
  {
   "cell_type": "markdown",
   "id": "039805ba",
   "metadata": {},
   "source": [
    "# Remark on Broadcasting when doing Linear Algebra calculations in Python. "
   ]
  },
  {
   "cell_type": "markdown",
   "id": "c4bcc147",
   "metadata": {},
   "source": [
    "### From the mathematical rules of matrix addition, the operation below (m1 + m2) does not make sense. The reason is that matrix addition requires two matrices of the same size. In Python however, it works due to broadcasting rules in NumPy. So you must be careful when doing Linear Algebra calculations in Python since they do not follow the \"mathematical rules\". This can however easily be handled by doing some simple programming, for example validating that two matrices have the same shape is easy if you for instance want to add two matrices. "
   ]
  },
  {
   "cell_type": "code",
   "execution_count": 114,
   "id": "1fd46778",
   "metadata": {},
   "outputs": [
    {
     "name": "stdout",
     "output_type": "stream",
     "text": [
      "[[2 3]\n",
      " [4 5]]\n"
     ]
    }
   ],
   "source": [
    "m1 = np.array([[1, 2], [3, 4]])\n",
    "m2 = np.array([1, 1])\n",
    "print(m1 + m2)"
   ]
  },
  {
   "cell_type": "markdown",
   "id": "047d6576",
   "metadata": {},
   "source": [
    "### The example below would also not be allowed if following the \"mathematical rules\" in Linear Algebra. But it works due to broadcasting in NumPy. "
   ]
  },
  {
   "cell_type": "code",
   "execution_count": 115,
   "id": "5e6ef2e4",
   "metadata": {},
   "outputs": [
    {
     "name": "stdout",
     "output_type": "stream",
     "text": [
      "[2 3 4]\n"
     ]
    }
   ],
   "source": [
    "v1 = np.array([1, 2, 3])\n",
    "print(v1 + 1)"
   ]
  },
  {
   "cell_type": "code",
   "execution_count": 134,
   "id": "e2cbae26",
   "metadata": {},
   "outputs": [
    {
     "name": "stdout",
     "output_type": "stream",
     "text": [
      "[[1 2]\n",
      " [3 4]]\n",
      "[2 2]\n"
     ]
    }
   ],
   "source": [
    "A = np.arange(1, 5).reshape(2,2)\n",
    "print(A)\n",
    "\n",
    "b = np.array([2, 2])\n",
    "print(b)"
   ]
  },
  {
   "cell_type": "markdown",
   "id": "722fd5cd",
   "metadata": {},
   "source": [
    "# Vector- and matrix algebra Exercises"
   ]
  },
  {
   "cell_type": "markdown",
   "id": "b63a3081-d976-4d9f-bfd0-a63917e79f7d",
   "metadata": {},
   "source": [
    "**Now you are going to create a function that can be reused every time you add or multiply matrices. The function is created so that we do the addition and multiplication according to the rules of vector- and matrix algebra.**\n",
    "\n",
    "**Create a function \"add_mult_matrices\" that takes two matrices as input arguments (validate that the input are of the type numpy.ndarray by using the isinstance function), a third argument that is either 'add' or 'multiply' that specifies if you want to add or multiply the matrices (validate that the third argument is either 'add' or 'multiply'). When doing matrix addition, validate that the matrices have the same size. When doing matrix multiplication, validate that the sizes conform (i.e. number of columns in the first matrix is equal to the number of rows in the second matrix).**"
   ]
  },
  {
   "cell_type": "code",
   "execution_count": 139,
   "id": "3506f977-ac0a-473f-85bc-eec9f35dc498",
   "metadata": {},
   "outputs": [
    {
     "name": "stdout",
     "output_type": "stream",
     "text": [
      "Addition Result:\n",
      " [[ 6  8]\n",
      " [10 12]]\n",
      "Multiplication Result:\n",
      " [[19 22]\n",
      " [43 50]]\n"
     ]
    }
   ],
   "source": [
    "import numpy as np\n",
    "\n",
    "def add_mult_matrices(matrix1, matrix2, operation):\n",
    "    # Validate that the inputs are numpy ndarrays\n",
    "    if not isinstance(matrix1, np.ndarray) or not isinstance(matrix2, np.ndarray):\n",
    "        raise ValueError(\"Both inputs must be of type numpy.ndarray.\")\n",
    "    \n",
    "    # Validate the operation argument\n",
    "    if operation not in ['add', 'multiply']:\n",
    "        raise ValueError(\"The operation must be either 'add' or 'multiply'.\")\n",
    "\n",
    "    # Perform addition\n",
    "    if operation == 'add':\n",
    "        # Validate that the matrices have the same shape\n",
    "        if matrix1.shape != matrix2.shape:\n",
    "            raise ValueError(\"Matrices must have the same size for addition.\")\n",
    "        return matrix1 + matrix2\n",
    "\n",
    "    # Perform multiplication\n",
    "    elif operation == 'multiply':\n",
    "        # Validate that the matrices can be multiplied\n",
    "        if matrix1.shape[1] != matrix2.shape[0]:\n",
    "            raise ValueError(\"The number of columns in the first matrix must equal the number of rows in the second matrix for multiplication.\")\n",
    "        return np.dot(matrix1, matrix2)\n",
    "\n",
    "# Example\n",
    "# We have two matrices\n",
    "A = np.array([[1, 2], [3, 4]])\n",
    "B = np.array([[5, 6], [7, 8]])\n",
    "\n",
    "# Add the matrices\n",
    "result_add = add_mult_matrices(A, B, 'add')\n",
    "print(\"Addition Result:\\n\", result_add)\n",
    "\n",
    "# Multiply the matrices\n",
    "result_multiply = add_mult_matrices(A, B, 'multiply')\n",
    "print(\"Multiplication Result:\\n\", result_multiply)"
   ]
  },
  {
   "cell_type": "markdown",
   "id": "8dad82d0-2359-4dff-8f5b-a57d3e34103c",
   "metadata": {},
   "source": [
    "### Solve all the exercises in chapter 10.1 in the book \"Matematik för yrkeshögskolan\". "
   ]
  },
  {
   "cell_type": "code",
   "execution_count": null,
   "id": "89df88af-3668-4d98-a0a4-e6d92eea0f89",
   "metadata": {},
   "outputs": [],
   "source": []
  },
  {
   "cell_type": "markdown",
   "id": "75c98984-1f88-4df1-b850-d2466de444a5",
   "metadata": {},
   "source": [
    "### Solve all the exercises, except 10.2.4, in chapter 10.2 in the book \"Matematik för yrkeshögskolan\". "
   ]
  },
  {
   "cell_type": "code",
   "execution_count": null,
   "id": "65371610-16e1-48b2-b7fb-65e49002608a",
   "metadata": {},
   "outputs": [],
   "source": []
  },
  {
   "cell_type": "markdown",
   "id": "6a4a524f",
   "metadata": {},
   "source": [
    "### Copies and Views\n",
    "Read the following link: https://numpy.org/doc/stable/user/basics.copies.html"
   ]
  },
  {
   "cell_type": "markdown",
   "id": "6cbbeaf7",
   "metadata": {},
   "source": [
    "**Basic indexing creates a view, How can you check if v1 and v2 is a view or copy? If you change the last element in v2 to 123, will the last element in v1 be changed? Why?**"
   ]
  },
  {
   "cell_type": "code",
   "execution_count": 146,
   "id": "5b9ef4df",
   "metadata": {},
   "outputs": [
    {
     "name": "stdout",
     "output_type": "stream",
     "text": [
      "[0 1 2 3]\n",
      "[2 3]\n"
     ]
    }
   ],
   "source": [
    "v1 = np.arange(4)\n",
    "v2 = v1[-2:]\n",
    "print(v1)\n",
    "print(v2)"
   ]
  },
  {
   "cell_type": "code",
   "execution_count": 147,
   "id": "d2440489",
   "metadata": {},
   "outputs": [
    {
     "name": "stdout",
     "output_type": "stream",
     "text": [
      "None\n",
      "[0 1 2 3]\n"
     ]
    }
   ],
   "source": [
    "# The base attribute of a view returns the original array while it returns None for a copy.\n",
    "print(v1.base)\n",
    "print(v2.base)"
   ]
  },
  {
   "cell_type": "code",
   "execution_count": null,
   "id": "c8752807",
   "metadata": {},
   "outputs": [],
   "source": [
    "# The last element in v1 will be changed aswell since v2 is a view, meaning they share the same data buffer.\n",
    "v2[-1] = 123\n",
    "print(v1)\n",
    "print(v2)"
   ]
  },
  {
   "cell_type": "markdown",
   "id": "6149d30b",
   "metadata": {},
   "source": [
    "With help of the following code can we decide if v2 is a view or copy of v1:"
   ]
  },
  {
   "cell_type": "code",
   "execution_count": 151,
   "id": "c742e531",
   "metadata": {},
   "outputs": [
    {
     "name": "stdout",
     "output_type": "stream",
     "text": [
      "v2 is a view of v1.\n"
     ]
    }
   ],
   "source": [
    "import numpy as np\n",
    "\n",
    "v1 = np.arange(4)\n",
    "v2 = v1[-2:]\n",
    "\n",
    "# Check if v2 is a view of v1\n",
    "if np.shares_memory(v1, v2):\n",
    "    print(\"v2 is a view of v1.\")\n",
    "else:\n",
    "    print(\"v2 is a copy of v1.\")"
   ]
  },
  {
   "cell_type": "markdown",
   "id": "3dd68221",
   "metadata": {},
   "source": [
    "Basic Indexing Creates a View:\n",
    "\n",
    "When you use slicing like v1[-2:], it creates a view of the original array (v1).\n",
    "The view shares the same memory as the original array, so modifying the view affects the original array.\n",
    "Checking the .base Attribute:\n",
    "\n",
    "v1.base is None because v1 is the original array.\n",
    "v2.base points to v1, indicating that v2 is a view of v1.\n",
    "Modifying the Last Element:\n",
    "\n",
    "When you modify the last element of v2 (i.e., v2[-1] = 123), the corresponding element in v1 is also modified because they share the same data buffer.\n",
    "After the modification, v1 becomes [0, 1, 2, 123], and v2 becomes [2, 123]."
   ]
  }
 ],
 "metadata": {
  "kernelspec": {
   "display_name": "base",
   "language": "python",
   "name": "python3"
  },
  "language_info": {
   "codemirror_mode": {
    "name": "ipython",
    "version": 3
   },
   "file_extension": ".py",
   "mimetype": "text/x-python",
   "name": "python",
   "nbconvert_exporter": "python",
   "pygments_lexer": "ipython3",
   "version": "3.12.3"
  }
 },
 "nbformat": 4,
 "nbformat_minor": 5
}
